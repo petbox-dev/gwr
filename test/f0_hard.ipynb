{
 "cells": [
  {
   "cell_type": "code",
   "execution_count": 1,
   "metadata": {
    "ExecuteTime": {
     "end_time": "2020-07-24T18:53:38.146162Z",
     "start_time": "2020-07-24T18:53:35.768551Z"
    }
   },
   "outputs": [],
   "source": [
    "from functools import lru_cache\n",
    "\n",
    "from mpmath import mp\n",
    "\n",
    "import numpy as np\n",
    "import matplotlib.pyplot as plt\n",
    "\n",
    "from typing import Union\n",
    "\n",
    "%matplotlib inline\n",
    "plt.rcParams['font.size'] = 16"
   ]
  },
  {
   "cell_type": "code",
   "execution_count": 2,
   "metadata": {
    "ExecuteTime": {
     "end_time": "2020-07-24T18:53:42.294429Z",
     "start_time": "2020-07-24T18:53:42.275938Z"
    }
   },
   "outputs": [],
   "source": [
    "from gwr import gwr"
   ]
  },
  {
   "cell_type": "markdown",
   "metadata": {},
   "source": [
    "# Test"
   ]
  },
  {
   "cell_type": "code",
   "execution_count": 3,
   "metadata": {
    "ExecuteTime": {
     "end_time": "2020-07-24T18:53:53.406024Z",
     "start_time": "2020-07-24T18:53:53.394203Z"
    }
   },
   "outputs": [
    {
     "name": "stdout",
     "output_type": "stream",
     "text": [
      "0.826879540532003\n"
     ]
    }
   ],
   "source": [
    "mp.dps = 15\n",
    "t0 = np.array([1000.0])\n",
    "print(mp.mpf(mp.sin(t0[0])))"
   ]
  },
  {
   "cell_type": "code",
   "execution_count": 4,
   "metadata": {
    "ExecuteTime": {
     "end_time": "2020-07-24T18:54:33.544355Z",
     "start_time": "2020-07-24T18:54:33.530738Z"
    }
   },
   "outputs": [
    {
     "name": "stdout",
     "output_type": "stream",
     "text": [
      "[ 256  512  768 1024]\n"
     ]
    }
   ],
   "source": [
    "m_tab = np.array([1, 2, 3, 4]) * 256\n",
    "print(m_tab)"
   ]
  },
  {
   "cell_type": "code",
   "execution_count": 7,
   "metadata": {
    "ExecuteTime": {
     "end_time": "2020-07-24T19:19:10.432174Z",
     "start_time": "2020-07-24T19:19:10.427188Z"
    }
   },
   "outputs": [],
   "source": [
    "@lru_cache(maxsize=None)\n",
    "def f1(s, *args):\n",
    "    return 1.0 / (1.0 + s * s)"
   ]
  },
  {
   "cell_type": "code",
   "execution_count": 8,
   "metadata": {
    "ExecuteTime": {
     "end_time": "2020-07-24T19:20:34.059536Z",
     "start_time": "2020-07-24T19:19:11.555346Z"
    }
   },
   "outputs": [
    {
     "name": "stdout",
     "output_type": "stream",
     "text": [
      "[mpf('-8.111348863484184e-97')]\n",
      "[mpf('3.5956876462644095e-71')]\n",
      "[mpf('0.84358923358978876')]\n",
      "[mpf('0.82687954053200253')]\n"
     ]
    }
   ],
   "source": [
    "for m in m_tab:\n",
    "    print(gwr(f1, t0, m))"
   ]
  }
 ],
 "metadata": {
  "kernelspec": {
   "display_name": "Python 3",
   "language": "python",
   "name": "python3"
  },
  "language_info": {
   "codemirror_mode": {
    "name": "ipython",
    "version": 3
   },
   "file_extension": ".py",
   "mimetype": "text/x-python",
   "name": "python",
   "nbconvert_exporter": "python",
   "pygments_lexer": "ipython3",
   "version": "3.7.6"
  },
  "varInspector": {
   "cols": {
    "lenName": 16,
    "lenType": 16,
    "lenVar": 40
   },
   "kernels_config": {
    "python": {
     "delete_cmd_postfix": "",
     "delete_cmd_prefix": "del ",
     "library": "var_list.py",
     "varRefreshCmd": "print(var_dic_list())"
    },
    "r": {
     "delete_cmd_postfix": ") ",
     "delete_cmd_prefix": "rm(",
     "library": "var_list.r",
     "varRefreshCmd": "cat(var_dic_list()) "
    }
   },
   "types_to_exclude": [
    "module",
    "function",
    "builtin_function_or_method",
    "instance",
    "_Feature"
   ],
   "window_display": false
  }
 },
 "nbformat": 4,
 "nbformat_minor": 4
}
